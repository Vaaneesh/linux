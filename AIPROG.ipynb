{
 "cells": [
  {
   "cell_type": "code",
   "execution_count": 21,
   "id": "5dafaf2c",
   "metadata": {},
   "outputs": [
    {
     "ename": "NameError",
     "evalue": "name 'person' is not defined",
     "output_type": "error",
     "traceback": [
      "\u001b[0;31m---------------------------------------------------------------------------\u001b[0m",
      "\u001b[0;31mNameError\u001b[0m                                 Traceback (most recent call last)",
      "Input \u001b[0;32mIn [21]\u001b[0m, in \u001b[0;36m<cell line: 19>\u001b[0;34m()\u001b[0m\n\u001b[1;32m     15\u001b[0m     engine\u001b[38;5;241m.\u001b[39msay(text)\n\u001b[1;32m     16\u001b[0m     engine\u001b[38;5;241m.\u001b[39mrunAndWait()\n\u001b[0;32m---> 19\u001b[0m wikipedia\u001b[38;5;241m.\u001b[39msummary (\u001b[43mperson\u001b[49m,\u001b[38;5;241m1\u001b[39m)\n\u001b[1;32m     20\u001b[0m \u001b[38;5;28mprint\u001b[39m(info)\n\u001b[1;32m     21\u001b[0m talk(info) \n",
      "\u001b[0;31mNameError\u001b[0m: name 'person' is not defined"
     ]
    }
   ],
   "source": [
    "import speech_recognition as sr\n",
    "import pyttsx3\n",
    "import pywhatkit\n",
    "import datetime\n",
    "import wikipedia\n",
    "import pyjokes\n",
    "\n",
    "listener = sr. Recognizer()\n",
    "engine = pyttsx3.init()\n",
    "voices = engine.getProperty('voices')\n",
    "engine.setProperty('voice', voices[1].id)\n",
    "\n",
    "\n",
    "def talk(text):\n",
    "    engine.say(text)\n",
    "    engine.runAndWait()\n",
    "    \n",
    "\n",
    "wikipedia.summary (person,1)\n",
    "print(info)\n",
    "talk(info) \n",
    "def take_command ():\n",
    "    \n",
    "    try:\n",
    "        \n",
    "        with sr.Microphone() as source:\n",
    "            print('listening...')\n",
    "            \n",
    "            voice = listener.listen(source)\n",
    "            command = listener.recognize_google(voice)\n",
    "            command = command.lower ()\n",
    "            if 'alexa' in command:\n",
    "                command = command.replace('alexa',' ' )\n",
    "                print(command)\n",
    "            \n",
    "    \n",
    "\n",
    "\n",
    "\n",
    "\n",
    "\n",
    "\n",
    "\n",
    "    except:\n",
    "        pass\n",
    "    \n",
    "    return command\n",
    "\n",
    "def run_alexa():\n",
    "    command = take_command ()\n",
    "    print(command)\n",
    "    if 'play' in command:\n",
    "        song - command.replace('play',' ')\n",
    "        talk('playing' + song)\n",
    "        pywhatkit.playonyt(song)\n",
    "        \n",
    "    elif 'time' in command:\n",
    "        time = datetime.datetime.now().strftime('%I:%M %P')\n",
    "        talk('current time is '+ time)\n",
    "    elif'who on earth is' in command:\n",
    "        person = command.replace('who on earth is',' ')\n",
    "        info\n",
    "    elif 'date' in command:\n",
    "        talk('sorry i have a headache')\n",
    "    elif 'are you single' in command:\n",
    "        talk('I am in a Relationship with the wifi')\n",
    "    elif 'joke' in command:\n",
    "        talk(pyjokes.get_joke())\n",
    "    else:\n",
    "        talk('Please say the command again.')\n",
    "        \n",
    "        \n",
    "while true:\n",
    "    run_alexa()\n",
    "                               \n",
    "        \n",
    "    \n",
    "    \n",
    "\n",
    "\n"
   ]
  },
  {
   "cell_type": "code",
   "execution_count": null,
   "id": "7dd05a64",
   "metadata": {},
   "outputs": [],
   "source": []
  },
  {
   "cell_type": "code",
   "execution_count": null,
   "id": "9ef9cb6d",
   "metadata": {},
   "outputs": [],
   "source": []
  },
  {
   "cell_type": "code",
   "execution_count": null,
   "id": "f5cd9e12",
   "metadata": {},
   "outputs": [],
   "source": []
  },
  {
   "cell_type": "code",
   "execution_count": null,
   "id": "a7280593",
   "metadata": {},
   "outputs": [],
   "source": []
  },
  {
   "cell_type": "code",
   "execution_count": null,
   "id": "bd62376f",
   "metadata": {},
   "outputs": [],
   "source": []
  },
  {
   "cell_type": "code",
   "execution_count": null,
   "id": "63243ae7",
   "metadata": {},
   "outputs": [],
   "source": []
  }
 ],
 "metadata": {
  "kernelspec": {
   "display_name": "Python 3 (ipykernel)",
   "language": "python",
   "name": "python3"
  },
  "language_info": {
   "codemirror_mode": {
    "name": "ipython",
    "version": 3
   },
   "file_extension": ".py",
   "mimetype": "text/x-python",
   "name": "python",
   "nbconvert_exporter": "python",
   "pygments_lexer": "ipython3",
   "version": "3.9.12"
  }
 },
 "nbformat": 4,
 "nbformat_minor": 5
}
